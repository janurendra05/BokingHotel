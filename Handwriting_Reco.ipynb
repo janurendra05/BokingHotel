{
  "nbformat": 4,
  "nbformat_minor": 0,
  "metadata": {
    "colab": {
      "provenance": [],
      "collapsed_sections": [],
      "mount_file_id": "1Wc5zYuRP25dta7zH9BN8RBqt-yS1_bUJ",
      "authorship_tag": "ABX9TyNm7gjUwHeiHWjl+xaXCy45",
      "include_colab_link": true
    },
    "kernelspec": {
      "name": "python3",
      "display_name": "Python 3"
    },
    "language_info": {
      "name": "python"
    }
  },
  "cells": [
    {
      "cell_type": "markdown",
      "metadata": {
        "id": "view-in-github",
        "colab_type": "text"
      },
      "source": [
        "<a href=\"https://colab.research.google.com/github/janurendra05/BokingHotel/blob/master/Handwriting_Reco.ipynb\" target=\"_parent\"><img src=\"https://colab.research.google.com/assets/colab-badge.svg\" alt=\"Open In Colab\"/></a>"
      ]
    },
    {
      "cell_type": "code",
      "source": [
        "#import zipfile\n",
        "#from google.colab import drive\n",
        "\n",
        "#drive.mount('/content/drive/')\n"
      ],
      "metadata": {
        "colab": {
          "base_uri": "https://localhost:8080/"
        },
        "id": "ND3Grqz8nmlP",
        "outputId": "ffd188b6-056a-4897-e0f7-c289d2f497bf"
      },
      "execution_count": 3,
      "outputs": [
        {
          "output_type": "stream",
          "name": "stdout",
          "text": [
            "Drive already mounted at /content/drive/; to attempt to forcibly remount, call drive.mount(\"/content/drive/\", force_remount=True).\n"
          ]
        }
      ]
    },
    {
      "cell_type": "code",
      "source": [
        "pwd"
      ],
      "metadata": {
        "colab": {
          "base_uri": "https://localhost:8080/",
          "height": 35
        },
        "id": "_8yihQNGZH5U",
        "outputId": "4197e62f-3097-409b-db35-6b2255cc337f"
      },
      "execution_count": 5,
      "outputs": [
        {
          "output_type": "execute_result",
          "data": {
            "text/plain": [
              "'/content'"
            ],
            "application/vnd.google.colaboratory.intrinsic+json": {
              "type": "string"
            }
          },
          "metadata": {},
          "execution_count": 5
        }
      ]
    },
    {
      "cell_type": "code",
      "source": [
        "#zip_ref = zipfile.ZipFile(\"/content/drive/MyDrive/AI Project/archive.zip\", 'r')\n",
        "#zip_ref.extractall(\"/content\")\n",
        "#zip_ref.close()  "
      ],
      "metadata": {
        "id": "AK2_l-mCZdOJ"
      },
      "execution_count": 6,
      "outputs": []
    },
    {
      "cell_type": "code",
      "source": [
        "#zip_ref = zipfile.ZipFile(\"/content/drive/MyDrive/AI Project/archive_2.zip\", 'r')\n",
        "#zip_ref.extractall(\"/content\")\n",
        "#zip_ref.close()"
      ],
      "metadata": {
        "id": "rzpWDBIhZw7J"
      },
      "execution_count": 7,
      "outputs": []
    },
    {
      "cell_type": "code",
      "source": [
        "import numpy as np\n",
        "import pandas as pd\n",
        "from keras.preprocessing.image import ImageDataGenerator\n",
        "import os\n",
        "import random \n",
        "import cv2\n",
        "import imutils\n",
        "import random\n",
        "import matplotlib.pyplot as plt\n",
        "import seaborn as sns\n",
        "from sklearn.preprocessing import LabelBinarizer\n",
        "from keras.utils import np_utils\n",
        "from keras.models import Sequential\n",
        "from keras import optimizers\n",
        "from sklearn.preprocessing import LabelBinarizer\n",
        "from keras import backend as K\n",
        "from keras.layers import Dense, Activation, Flatten, Dense,MaxPooling2D, Dropout\n",
        "from keras.layers import Conv2D, MaxPooling2D, BatchNormalization\n",
        "from tensorflow import keras"
      ],
      "metadata": {
        "id": "gDbFVJpCoEGp"
      },
      "execution_count": 34,
      "outputs": []
    },
    {
      "cell_type": "code",
      "source": [
        "dir = \"Train\"\n",
        "train_data = []\n",
        "img_size = 32\n",
        "non_chars = [\"#\",\"$\",\"&\",\"@\"]\n",
        "for i in os.listdir(dir):\n",
        "    if i in non_chars:\n",
        "        continue\n",
        "    count = 0\n",
        "    sub_directory = os.path.join(dir,i)\n",
        "    for j in os.listdir(sub_directory):\n",
        "        count+=1\n",
        "        if count > 4000:\n",
        "            break\n",
        "        img = cv2.imread(os.path.join(sub_directory,j),0)\n",
        "        img = cv2.resize(img,(img_size,img_size))\n",
        "        train_data.append([img,i])"
      ],
      "metadata": {
        "id": "vpsGN7wkn8R-"
      },
      "execution_count": 9,
      "outputs": []
    },
    {
      "cell_type": "code",
      "source": [
        "len(train_data)"
      ],
      "metadata": {
        "colab": {
          "base_uri": "https://localhost:8080/"
        },
        "id": "UfqcsAeCqBxs",
        "outputId": "7217d114-1347-444f-8e17-b0c84cc36fb9"
      },
      "execution_count": 10,
      "outputs": [
        {
          "output_type": "execute_result",
          "data": {
            "text/plain": [
              "140000"
            ]
          },
          "metadata": {},
          "execution_count": 10
        }
      ]
    },
    {
      "cell_type": "code",
      "source": [
        "val_dir = \"Validation\"\n",
        "val_data = []\n",
        "img_size = 32\n",
        "for i in os.listdir(val_dir):\n",
        "    if i in non_chars:\n",
        "        continue\n",
        "    count = 0\n",
        "    sub_directory = os.path.join(val_dir,i)\n",
        "    for j in os.listdir(sub_directory):\n",
        "        count+=1\n",
        "        if count > 1000:\n",
        "            break\n",
        "        img = cv2.imread(os.path.join(sub_directory,j),0)\n",
        "        img = cv2.resize(img,(img_size,img_size))\n",
        "        val_data.append([img,i])"
      ],
      "metadata": {
        "id": "QPb3faEcrDD9"
      },
      "execution_count": 11,
      "outputs": []
    },
    {
      "cell_type": "code",
      "source": [
        "len(val_data)"
      ],
      "metadata": {
        "colab": {
          "base_uri": "https://localhost:8080/"
        },
        "id": "0emBsa7z0o1D",
        "outputId": "e17a13bd-a76b-4b18-9bd8-de6c24ff65bc"
      },
      "execution_count": 12,
      "outputs": [
        {
          "output_type": "execute_result",
          "data": {
            "text/plain": [
              "15209"
            ]
          },
          "metadata": {},
          "execution_count": 12
        }
      ]
    },
    {
      "cell_type": "code",
      "source": [
        "random.shuffle(train_data)\n",
        "random.shuffle(val_data)"
      ],
      "metadata": {
        "id": "IylzkE8_0qGL"
      },
      "execution_count": 13,
      "outputs": []
    },
    {
      "cell_type": "code",
      "source": [
        "train_X = []\n",
        "train_Y = []\n",
        "for features,label in train_data:\n",
        "    train_X.append(features)\n",
        "    train_Y.append(label)"
      ],
      "metadata": {
        "id": "8ILD9o6Q0qdF"
      },
      "execution_count": 14,
      "outputs": []
    },
    {
      "cell_type": "code",
      "source": [
        "val_X = []\n",
        "val_Y = []\n",
        "for features,label in val_data:\n",
        "    val_X.append(features)\n",
        "    val_Y.append(label)"
      ],
      "metadata": {
        "id": "nedxWqjF1EUw"
      },
      "execution_count": 15,
      "outputs": []
    },
    {
      "cell_type": "code",
      "source": [
        "LB = LabelBinarizer()\n",
        "train_Y = LB.fit_transform(train_Y)\n",
        "val_Y = LB.fit_transform(val_Y)"
      ],
      "metadata": {
        "id": "FvFQm9ru1G3d"
      },
      "execution_count": 16,
      "outputs": []
    },
    {
      "cell_type": "code",
      "source": [
        "train_X = np.array(train_X)/255.0\n",
        "train_X = train_X.reshape(-1,32,32,1)\n",
        "train_Y = np.array(train_Y)"
      ],
      "metadata": {
        "id": "JcbmdI1C1OF6"
      },
      "execution_count": 17,
      "outputs": []
    },
    {
      "cell_type": "code",
      "source": [
        "val_X = np.array(val_X)/255.0\n",
        "val_X = val_X.reshape(-1,32,32,1)\n",
        "val_Y = np.array(val_Y)"
      ],
      "metadata": {
        "id": "tfkuN-Vh1Vhb"
      },
      "execution_count": 19,
      "outputs": []
    },
    {
      "cell_type": "code",
      "source": [
        "print(train_X.shape,val_X.shape)"
      ],
      "metadata": {
        "colab": {
          "base_uri": "https://localhost:8080/"
        },
        "id": "puZuxAXa1Vs7",
        "outputId": "5cba8116-d73d-4362-8d18-957a8d83a2dd"
      },
      "execution_count": 20,
      "outputs": [
        {
          "output_type": "stream",
          "name": "stdout",
          "text": [
            "(140000, 32, 32, 1) (15209, 32, 32, 1)\n"
          ]
        }
      ]
    },
    {
      "cell_type": "code",
      "source": [
        "print(train_Y.shape,val_Y.shape)"
      ],
      "metadata": {
        "colab": {
          "base_uri": "https://localhost:8080/"
        },
        "id": "406DTwoH1V7A",
        "outputId": "70890b93-84c5-400b-a74c-ea7cd915d9cb"
      },
      "execution_count": 21,
      "outputs": [
        {
          "output_type": "stream",
          "name": "stdout",
          "text": [
            "(140000, 35) (15209, 35)\n"
          ]
        }
      ]
    },
    {
      "cell_type": "code",
      "source": [
        "model = Sequential()\n",
        "\n",
        "model.add(Conv2D(32, (3, 3), padding = \"same\", activation='relu', input_shape=(32,32,1)))\n",
        "model.add(MaxPooling2D(pool_size=(2,2)))\n",
        "model.add(Conv2D(64, (3, 3), activation='relu'))\n",
        "model.add(MaxPooling2D(pool_size=(2,2)))\n",
        "model.add(Conv2D(128, (3, 3), activation='relu'))\n",
        "model.add(MaxPooling2D(pool_size=(2,2)))\n",
        "model.add(Dropout(0.25))\n",
        " \n",
        "model.add(Flatten())\n",
        "model.add(Dense(128, activation='relu'))\n",
        "model.add(Dropout(0.2))\n",
        "model.add(Dense(35, activation='softmax'))"
      ],
      "metadata": {
        "id": "Z3c0iKD-1WYQ"
      },
      "execution_count": 22,
      "outputs": []
    },
    {
      "cell_type": "code",
      "source": [
        "model.summary()"
      ],
      "metadata": {
        "colab": {
          "base_uri": "https://localhost:8080/"
        },
        "id": "1yPWLPOW15eB",
        "outputId": "754d80e0-56e0-4be5-fa9b-90f904982d9f"
      },
      "execution_count": 23,
      "outputs": [
        {
          "output_type": "stream",
          "name": "stdout",
          "text": [
            "Model: \"sequential\"\n",
            "_________________________________________________________________\n",
            " Layer (type)                Output Shape              Param #   \n",
            "=================================================================\n",
            " conv2d (Conv2D)             (None, 32, 32, 32)        320       \n",
            "                                                                 \n",
            " max_pooling2d (MaxPooling2D  (None, 16, 16, 32)       0         \n",
            " )                                                               \n",
            "                                                                 \n",
            " conv2d_1 (Conv2D)           (None, 14, 14, 64)        18496     \n",
            "                                                                 \n",
            " max_pooling2d_1 (MaxPooling  (None, 7, 7, 64)         0         \n",
            " 2D)                                                             \n",
            "                                                                 \n",
            " conv2d_2 (Conv2D)           (None, 5, 5, 128)         73856     \n",
            "                                                                 \n",
            " max_pooling2d_2 (MaxPooling  (None, 2, 2, 128)        0         \n",
            " 2D)                                                             \n",
            "                                                                 \n",
            " dropout (Dropout)           (None, 2, 2, 128)         0         \n",
            "                                                                 \n",
            " flatten (Flatten)           (None, 512)               0         \n",
            "                                                                 \n",
            " dense (Dense)               (None, 128)               65664     \n",
            "                                                                 \n",
            " dropout_1 (Dropout)         (None, 128)               0         \n",
            "                                                                 \n",
            " dense_1 (Dense)             (None, 35)                4515      \n",
            "                                                                 \n",
            "=================================================================\n",
            "Total params: 162,851\n",
            "Trainable params: 162,851\n",
            "Non-trainable params: 0\n",
            "_________________________________________________________________\n"
          ]
        }
      ]
    },
    {
      "cell_type": "code",
      "source": [
        "model.compile(loss='categorical_crossentropy', optimizer=\"adam\",metrics=['accuracy'])"
      ],
      "metadata": {
        "id": "trU3AJEP16Jg"
      },
      "execution_count": 24,
      "outputs": []
    },
    {
      "cell_type": "code",
      "source": [
        "history = model.fit(train_X,train_Y, epochs=50, batch_size=32, validation_data = (val_X, val_Y),  verbose=1)"
      ],
      "metadata": {
        "colab": {
          "base_uri": "https://localhost:8080/"
        },
        "id": "onRG8Ol-16iX",
        "outputId": "ecaad4c9-3676-4e7f-9f16-f80f991ba321"
      },
      "execution_count": 25,
      "outputs": [
        {
          "output_type": "stream",
          "name": "stdout",
          "text": [
            "Epoch 1/50\n",
            "4375/4375 [==============================] - 282s 64ms/step - loss: 0.6375 - accuracy: 0.7972 - val_loss: 0.3539 - val_accuracy: 0.8843\n",
            "Epoch 2/50\n",
            "4375/4375 [==============================] - 266s 61ms/step - loss: 0.3525 - accuracy: 0.8805 - val_loss: 0.2834 - val_accuracy: 0.9095\n",
            "Epoch 3/50\n",
            "4375/4375 [==============================] - 264s 60ms/step - loss: 0.3094 - accuracy: 0.8944 - val_loss: 0.2596 - val_accuracy: 0.9202\n",
            "Epoch 4/50\n",
            "4375/4375 [==============================] - 263s 60ms/step - loss: 0.2807 - accuracy: 0.9027 - val_loss: 0.2515 - val_accuracy: 0.9166\n",
            "Epoch 5/50\n",
            "4375/4375 [==============================] - 262s 60ms/step - loss: 0.2657 - accuracy: 0.9085 - val_loss: 0.2387 - val_accuracy: 0.9200\n",
            "Epoch 6/50\n",
            "4375/4375 [==============================] - 264s 60ms/step - loss: 0.2522 - accuracy: 0.9113 - val_loss: 0.2369 - val_accuracy: 0.9170\n",
            "Epoch 7/50\n",
            "4375/4375 [==============================] - 264s 60ms/step - loss: 0.2421 - accuracy: 0.9142 - val_loss: 0.2451 - val_accuracy: 0.9149\n",
            "Epoch 8/50\n",
            "4375/4375 [==============================] - 263s 60ms/step - loss: 0.2347 - accuracy: 0.9171 - val_loss: 0.2321 - val_accuracy: 0.9181\n",
            "Epoch 9/50\n",
            "4375/4375 [==============================] - 257s 59ms/step - loss: 0.2271 - accuracy: 0.9189 - val_loss: 0.2348 - val_accuracy: 0.9235\n",
            "Epoch 10/50\n",
            "4375/4375 [==============================] - 258s 59ms/step - loss: 0.2223 - accuracy: 0.9201 - val_loss: 0.2632 - val_accuracy: 0.9054\n",
            "Epoch 11/50\n",
            "4375/4375 [==============================] - 259s 59ms/step - loss: 0.2167 - accuracy: 0.9219 - val_loss: 0.2194 - val_accuracy: 0.9268\n",
            "Epoch 12/50\n",
            "4375/4375 [==============================] - 255s 58ms/step - loss: 0.2142 - accuracy: 0.9225 - val_loss: 0.2312 - val_accuracy: 0.9195\n",
            "Epoch 13/50\n",
            "4375/4375 [==============================] - 261s 60ms/step - loss: 0.2093 - accuracy: 0.9241 - val_loss: 0.2232 - val_accuracy: 0.9290\n",
            "Epoch 14/50\n",
            "4375/4375 [==============================] - 260s 60ms/step - loss: 0.2048 - accuracy: 0.9252 - val_loss: 0.2414 - val_accuracy: 0.9145\n",
            "Epoch 15/50\n",
            "4375/4375 [==============================] - 264s 60ms/step - loss: 0.2028 - accuracy: 0.9255 - val_loss: 0.2367 - val_accuracy: 0.9186\n",
            "Epoch 16/50\n",
            "4375/4375 [==============================] - 259s 59ms/step - loss: 0.1991 - accuracy: 0.9270 - val_loss: 0.2391 - val_accuracy: 0.9240\n",
            "Epoch 17/50\n",
            "4375/4375 [==============================] - 264s 60ms/step - loss: 0.1960 - accuracy: 0.9279 - val_loss: 0.2444 - val_accuracy: 0.9201\n",
            "Epoch 18/50\n",
            "4375/4375 [==============================] - 263s 60ms/step - loss: 0.1944 - accuracy: 0.9281 - val_loss: 0.2545 - val_accuracy: 0.9103\n",
            "Epoch 19/50\n",
            "4375/4375 [==============================] - 264s 60ms/step - loss: 0.1939 - accuracy: 0.9281 - val_loss: 0.2314 - val_accuracy: 0.9239\n",
            "Epoch 20/50\n",
            "4375/4375 [==============================] - 259s 59ms/step - loss: 0.1890 - accuracy: 0.9293 - val_loss: 0.2329 - val_accuracy: 0.9227\n",
            "Epoch 21/50\n",
            "4375/4375 [==============================] - 258s 59ms/step - loss: 0.1898 - accuracy: 0.9301 - val_loss: 0.2410 - val_accuracy: 0.9222\n",
            "Epoch 22/50\n",
            "4375/4375 [==============================] - 268s 61ms/step - loss: 0.1859 - accuracy: 0.9300 - val_loss: 0.2338 - val_accuracy: 0.9271\n",
            "Epoch 23/50\n",
            "4375/4375 [==============================] - 261s 60ms/step - loss: 0.1867 - accuracy: 0.9304 - val_loss: 0.2335 - val_accuracy: 0.9241\n",
            "Epoch 24/50\n",
            "4375/4375 [==============================] - 260s 59ms/step - loss: 0.1836 - accuracy: 0.9317 - val_loss: 0.2447 - val_accuracy: 0.9169\n",
            "Epoch 25/50\n",
            "4375/4375 [==============================] - 262s 60ms/step - loss: 0.1826 - accuracy: 0.9315 - val_loss: 0.2664 - val_accuracy: 0.9060\n",
            "Epoch 26/50\n",
            "4375/4375 [==============================] - 259s 59ms/step - loss: 0.1819 - accuracy: 0.9323 - val_loss: 0.2356 - val_accuracy: 0.9273\n",
            "Epoch 27/50\n",
            "4375/4375 [==============================] - 264s 60ms/step - loss: 0.1807 - accuracy: 0.9327 - val_loss: 0.2397 - val_accuracy: 0.9227\n",
            "Epoch 28/50\n",
            "4375/4375 [==============================] - 260s 59ms/step - loss: 0.1807 - accuracy: 0.9323 - val_loss: 0.2393 - val_accuracy: 0.9266\n",
            "Epoch 29/50\n",
            "4375/4375 [==============================] - 267s 61ms/step - loss: 0.1786 - accuracy: 0.9326 - val_loss: 0.2553 - val_accuracy: 0.9160\n",
            "Epoch 30/50\n",
            "4375/4375 [==============================] - 263s 60ms/step - loss: 0.1762 - accuracy: 0.9333 - val_loss: 0.2680 - val_accuracy: 0.9126\n",
            "Epoch 31/50\n",
            "4375/4375 [==============================] - 264s 60ms/step - loss: 0.1757 - accuracy: 0.9338 - val_loss: 0.2470 - val_accuracy: 0.9220\n",
            "Epoch 32/50\n",
            "4375/4375 [==============================] - 259s 59ms/step - loss: 0.1765 - accuracy: 0.9337 - val_loss: 0.2615 - val_accuracy: 0.9144\n",
            "Epoch 33/50\n",
            "4375/4375 [==============================] - 264s 60ms/step - loss: 0.1757 - accuracy: 0.9336 - val_loss: 0.2701 - val_accuracy: 0.9058\n",
            "Epoch 34/50\n",
            "4375/4375 [==============================] - 258s 59ms/step - loss: 0.1749 - accuracy: 0.9341 - val_loss: 0.2550 - val_accuracy: 0.9193\n",
            "Epoch 35/50\n",
            "4375/4375 [==============================] - 265s 61ms/step - loss: 0.1714 - accuracy: 0.9354 - val_loss: 0.2574 - val_accuracy: 0.9204\n",
            "Epoch 36/50\n",
            "4375/4375 [==============================] - 261s 60ms/step - loss: 0.1728 - accuracy: 0.9341 - val_loss: 0.2458 - val_accuracy: 0.9268\n",
            "Epoch 37/50\n",
            "4375/4375 [==============================] - 263s 60ms/step - loss: 0.1711 - accuracy: 0.9357 - val_loss: 0.2567 - val_accuracy: 0.9264\n",
            "Epoch 38/50\n",
            "4375/4375 [==============================] - 261s 60ms/step - loss: 0.1703 - accuracy: 0.9357 - val_loss: 0.2687 - val_accuracy: 0.9187\n",
            "Epoch 39/50\n",
            "4375/4375 [==============================] - 263s 60ms/step - loss: 0.1707 - accuracy: 0.9346 - val_loss: 0.2902 - val_accuracy: 0.9022\n",
            "Epoch 40/50\n",
            "4375/4375 [==============================] - 261s 60ms/step - loss: 0.1695 - accuracy: 0.9356 - val_loss: 0.2580 - val_accuracy: 0.9258\n",
            "Epoch 41/50\n",
            "4375/4375 [==============================] - 267s 61ms/step - loss: 0.1691 - accuracy: 0.9359 - val_loss: 0.2833 - val_accuracy: 0.9088\n",
            "Epoch 42/50\n",
            "4375/4375 [==============================] - 260s 59ms/step - loss: 0.1693 - accuracy: 0.9362 - val_loss: 0.2808 - val_accuracy: 0.9122\n",
            "Epoch 43/50\n",
            "4375/4375 [==============================] - 264s 60ms/step - loss: 0.1696 - accuracy: 0.9364 - val_loss: 0.2672 - val_accuracy: 0.9246\n",
            "Epoch 44/50\n",
            "4375/4375 [==============================] - 258s 59ms/step - loss: 0.1687 - accuracy: 0.9367 - val_loss: 0.2650 - val_accuracy: 0.9240\n",
            "Epoch 45/50\n",
            "4375/4375 [==============================] - 259s 59ms/step - loss: 0.1674 - accuracy: 0.9367 - val_loss: 0.2514 - val_accuracy: 0.9275\n",
            "Epoch 46/50\n",
            "4375/4375 [==============================] - 264s 60ms/step - loss: 0.1660 - accuracy: 0.9368 - val_loss: 0.2606 - val_accuracy: 0.9267\n",
            "Epoch 47/50\n",
            "4375/4375 [==============================] - 260s 59ms/step - loss: 0.1691 - accuracy: 0.9364 - val_loss: 0.2737 - val_accuracy: 0.9206\n",
            "Epoch 48/50\n",
            "4375/4375 [==============================] - 261s 60ms/step - loss: 0.1654 - accuracy: 0.9374 - val_loss: 0.2696 - val_accuracy: 0.9172\n",
            "Epoch 49/50\n",
            "4375/4375 [==============================] - 268s 61ms/step - loss: 0.1637 - accuracy: 0.9376 - val_loss: 0.2923 - val_accuracy: 0.9103\n",
            "Epoch 50/50\n",
            "4375/4375 [==============================] - 265s 61ms/step - loss: 0.1654 - accuracy: 0.9375 - val_loss: 0.2778 - val_accuracy: 0.9166\n"
          ]
        }
      ]
    },
    {
      "cell_type": "markdown",
      "source": [
        "Save Model"
      ],
      "metadata": {
        "id": "dxfVN9BZR7XU"
      }
    },
    {
      "cell_type": "code",
      "source": [
        "model.save(\"/content/drive/MyDrive/AI Project\")"
      ],
      "metadata": {
        "id": "nsOytLzaQmTY"
      },
      "execution_count": 32,
      "outputs": []
    },
    {
      "cell_type": "markdown",
      "source": [
        "Load Model"
      ],
      "metadata": {
        "id": "FsDkLM8hSDc2"
      }
    },
    {
      "cell_type": "code",
      "source": [
        "model = keras.models.load_model('/content/drive/MyDrive/AI Project')"
      ],
      "metadata": {
        "id": "bXxu1EDmRSL_"
      },
      "execution_count": 35,
      "outputs": []
    },
    {
      "cell_type": "code",
      "source": [
        "plt.plot(history.history['accuracy'])\n",
        "plt.plot(history.history['val_accuracy'])\n",
        "plt.title('Training Accuracy vs Validation Accuracy')\n",
        "plt.ylabel('Accuracy')\n",
        "plt.xlabel('Epoch')\n",
        "plt.legend(['Train', 'Validation'], loc='upper left')\n",
        "plt.show()"
      ],
      "metadata": {
        "colab": {
          "base_uri": "https://localhost:8080/",
          "height": 295
        },
        "id": "SJLb-9J2IsGH",
        "outputId": "6cdf30f7-bdaa-44ff-a175-17fd17bd5ee5"
      },
      "execution_count": 26,
      "outputs": [
        {
          "output_type": "display_data",
          "data": {
            "text/plain": [
              "<Figure size 432x288 with 1 Axes>"
            ],
            "image/png": "[encoded data removed]"
          },
          "metadata": {
            "needs_background": "light"
          }
        }
      ]
    },
    {
      "cell_type": "code",
      "source": [
        "plt.plot(history.history['loss'])\n",
        "plt.plot(history.history['val_loss'])\n",
        "plt.title('Training Loss vs Validation Loss')\n",
        "plt.ylabel('Loss')\n",
        "plt.xlabel('Epoch')\n",
        "plt.legend(['Train', 'Validation'], loc='upper left')\n",
        "plt.show()"
      ],
      "metadata": {
        "colab": {
          "base_uri": "https://localhost:8080/",
          "height": 295
        },
        "id": "u6ItjKjiJNkK",
        "outputId": "78b0e61b-f2e1-4fff-8cf1-b13dc97237ac"
      },
      "execution_count": 27,
      "outputs": [
        {
          "output_type": "display_data",
          "data": {
            "text/plain": [
              "<Figure size 432x288 with 1 Axes>"
            ],
            "image/png": "[encoded data removed]"
          },
          "metadata": {
            "needs_background": "light"
          }
        }
      ]
    },
    {
      "cell_type": "code",
      "source": [
        "def sort_contours(cnts, method=\"left-to-right\"):\n",
        "    reverse = False\n",
        "    i = 0\n",
        "    if method == \"right-to-left\" or method == \"bottom-to-top\":\n",
        "        reverse = True\n",
        "    if method == \"top-to-bottom\" or method == \"bottom-to-top\":\n",
        "        i = 1\n",
        "    boundingBoxes = [cv2.boundingRect(c) for c in cnts]\n",
        "    (cnts, boundingBoxes) = zip(*sorted(zip(cnts, boundingBoxes),\n",
        "    key=lambda b:b[1][i], reverse=reverse))\n",
        "    # return the list of sorted contours and bounding boxes\n",
        "    return (cnts, boundingBoxes)"
      ],
      "metadata": {
        "id": "neqdFym5OzPI"
      },
      "execution_count": 28,
      "outputs": []
    },
    {
      "cell_type": "code",
      "source": [
        "def get_letters(img):\n",
        "    letters = []\n",
        "    image = cv2.imread(img)\n",
        "    gray = cv2.cvtColor(image, cv2.COLOR_BGR2GRAY)\n",
        "    ret,thresh1 = cv2.threshold(gray ,127,255,cv2.THRESH_BINARY_INV)\n",
        "    dilated = cv2.dilate(thresh1, None, iterations=2)\n",
        "\n",
        "    cnts = cv2.findContours(dilated.copy(), cv2.RETR_EXTERNAL,cv2.CHAIN_APPROX_SIMPLE)\n",
        "    cnts = imutils.grab_contours(cnts)\n",
        "    cnts = sort_contours(cnts, method=\"left-to-right\")[0]\n",
        "    # loop over the contours\n",
        "    for c in cnts:\n",
        "        if cv2.contourArea(c) > 10:\n",
        "            (x, y, w, h) = cv2.boundingRect(c)\n",
        "            cv2.rectangle(image, (x, y), (x + w, y + h), (0, 255, 0), 2)\n",
        "        roi = gray[y:y + h, x:x + w]\n",
        "        thresh = cv2.threshold(roi, 0, 255,cv2.THRESH_BINARY_INV | cv2.THRESH_OTSU)[1]\n",
        "        thresh = cv2.resize(thresh, (32, 32), interpolation = cv2.INTER_CUBIC)\n",
        "        thresh = thresh.astype(\"float32\") / 255.0\n",
        "        thresh = np.expand_dims(thresh, axis=-1)\n",
        "        thresh = thresh.reshape(1,32,32,1)\n",
        "        ypred = model.predict(thresh)\n",
        "        ypred = LB.inverse_transform(ypred)\n",
        "        [x] = ypred\n",
        "        letters.append(x)\n",
        "    return letters, image\n",
        "\n",
        "#plt.imshow(image)"
      ],
      "metadata": {
        "id": "c6ESIegnO4Sj"
      },
      "execution_count": 29,
      "outputs": []
    },
    {
      "cell_type": "code",
      "source": [
        "def get_word(letter):\n",
        "    word = \"\".join(letter)\n",
        "    return word"
      ],
      "metadata": {
        "id": "79QNeQ33PI45"
      },
      "execution_count": 30,
      "outputs": []
    },
    {
      "cell_type": "code",
      "source": [
        "letter,image = get_letters(\"train_v2/train/TRAIN_00003.jpg\")\n",
        "word = get_word(letter)\n",
        "print(word)\n",
        "plt.imshow(image)"
      ],
      "metadata": {
        "colab": {
          "base_uri": "https://localhost:8080/",
          "height": 132
        },
        "id": "xvfwig5aPNWE",
        "outputId": "2f8ed6a0-7532-47ff-96c8-68f3cfe8d1df"
      },
      "execution_count": 31,
      "outputs": [
        {
          "output_type": "stream",
          "name": "stdout",
          "text": [
            "BEWE5\n"
          ]
        },
        {
          "output_type": "execute_result",
          "data": {
            "text/plain": [
              "<matplotlib.image.AxesImage at 0x7fa88d6db110>"
            ]
          },
          "metadata": {},
          "execution_count": 31
        },
        {
          "output_type": "display_data",
          "data": {
            "text/plain": [
              "<Figure size 432x288 with 1 Axes>"
            ],
            "image/png": "[encoded data removed]"
          },
          "metadata": {
            "needs_background": "light"
          }
        }
      ]
    }
  ]
}